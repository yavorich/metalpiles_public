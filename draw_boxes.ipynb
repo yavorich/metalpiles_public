{
 "cells": [
  {
   "cell_type": "code",
   "execution_count": 1,
   "metadata": {},
   "outputs": [],
   "source": [
    "import os\n",
    "import glob\n",
    "import json\n",
    "import base64\n",
    "import numpy as np\n",
    "import cv2"
   ]
  },
  {
   "cell_type": "code",
   "execution_count": 27,
   "metadata": {},
   "outputs": [],
   "source": [
    "def class_colors(names):\n",
    "    \"\"\"\n",
    "    Create a dict with one random BGR color for each\n",
    "    class name\n",
    "    \"\"\"\n",
    "    return {name: (\n",
    "        np.random.randint(0, 255),\n",
    "        np.random.randint(0, 255),\n",
    "        np.random.randint(0, 255)) for name in names}\n",
    "    \n",
    "    \n",
    "def draw_boxes(json_path):\n",
    "    '''\n",
    "    Draw image with bboxes from json file\n",
    "    Args:\n",
    "        json_path (str): path to json file\n",
    "    '''\n",
    "    with open(json_path) as f:\n",
    "        img_data = json.load(f)\n",
    "        \n",
    "    names_list = list(map(lambda x:x['label'], img_data['shapes']))\n",
    "    colors = class_colors(names_list)\n",
    "    \n",
    "    img = base64.b64decode(img_data['imageData'])\n",
    "    img = np.frombuffer(img, dtype = np.uint8)\n",
    "    img = cv2.imdecode(img, 1)\n",
    "    \n",
    "    shape_list = img_data['shapes']\n",
    "    for rect in shape_list:\n",
    "        \n",
    "        label = rect['label']\n",
    "        left, top = list(map(lambda x: int(round(x)), (rect['points'][0])))\n",
    "        right, bottom = list(map(lambda x: int(round(x)), (rect['points'][1])))\n",
    "        \n",
    "        cv2.rectangle(img, (left, top), (right, bottom), colors[label])\n",
    "        cv2.putText(img, f'{label}',\n",
    "                    (left, top - 5), cv2.FONT_HERSHEY_SIMPLEX, 0.5,\n",
    "                    colors[label], 2)\n",
    "    \n",
    "    cv2.imshow('img', img)\n",
    "    cv2.waitKey()  \n",
    "    cv2.destroyAllWindows()"
   ]
  },
  {
   "cell_type": "code",
   "execution_count": 28,
   "metadata": {},
   "outputs": [],
   "source": [
    "draw_boxes(os.path.join('D:\\Downloads\\Разметка', '00001615.json'))"
   ]
  },
  {
   "cell_type": "code",
   "execution_count": null,
   "metadata": {},
   "outputs": [],
   "source": []
  }
 ],
 "metadata": {
  "kernelspec": {
   "display_name": "Python 3",
   "language": "python",
   "name": "python3"
  },
  "language_info": {
   "codemirror_mode": {
    "name": "ipython",
    "version": 3
   },
   "file_extension": ".py",
   "mimetype": "text/x-python",
   "name": "python",
   "nbconvert_exporter": "python",
   "pygments_lexer": "ipython3",
   "version": "3.8.1"
  }
 },
 "nbformat": 4,
 "nbformat_minor": 4
}
