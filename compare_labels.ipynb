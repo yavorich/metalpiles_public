{
 "cells": [
  {
   "cell_type": "code",
   "execution_count": 2,
   "metadata": {},
   "outputs": [],
   "source": [
    "import numpy as np\n",
    "import cv2\n",
    "import json\n",
    "import os\n",
    "import argparse\n",
    "import sys"
   ]
  },
  {
   "cell_type": "code",
   "execution_count": 36,
   "metadata": {},
   "outputs": [
    {
     "data": {
      "text/plain": [
       "True"
      ]
     },
     "execution_count": 36,
     "metadata": {},
     "output_type": "execute_result"
    }
   ],
   "source": [
    "example = True\n",
    "example= example and example\n",
    "example"
   ]
  },
  {
   "cell_type": "code",
   "execution_count": 34,
   "metadata": {},
   "outputs": [
    {
     "data": {
      "text/plain": [
       "False"
      ]
     },
     "execution_count": 34,
     "metadata": {},
     "output_type": "execute_result"
    }
   ],
   "source": [
    "True and (True and False)"
   ]
  },
  {
   "cell_type": "code",
   "execution_count": 179,
   "metadata": {},
   "outputs": [],
   "source": [
    "class BoundingBox:\n",
    "    '''\n",
    "    Bounding box with corresponding parametes\n",
    "    Params:\n",
    "        center_x (float): x coordinate of the center\n",
    "        center_y (float): y coordinate of the center\n",
    "        width (float): width of the bounding box\n",
    "        height (float): height of the bounding box\n",
    "        label (str): label name\n",
    "    '''\n",
    "    def __init__(self, center_x: float, center_y: float, width: float, height: float, label: str):\n",
    "        self.center_x = center_x\n",
    "        self.center_y = center_y\n",
    "        self.width = width\n",
    "        self.height = height\n",
    "        self.label = label\n",
    "        \n",
    "    def __eq__(self, other, threshold = 30):\n",
    "        '''\n",
    "        Equality method\n",
    "        Args:\n",
    "            self: object to compare\n",
    "            other: object to compare\n",
    "            threshhold (int, can be float): threshhold for float BoundingBox's params estimation\n",
    "        '''\n",
    "        label_condition = self.label == other.label     \n",
    "        coords_condition = True\n",
    "        coords_condition = coords_condition and abs(self.center_x - other.center_x)<threshold\n",
    "        coords_condition = coords_condition and abs(self.center_y - other.center_y)<threshold\n",
    "        coords_condition = coords_condition and abs(self.width - other.width)<threshold\n",
    "        coords_condition = coords_condition and abs(self.height - other.height)<threshold\n",
    "        return label_condition and coords_condition\n",
    "    \n",
    "    def __hash__(self):\n",
    "#         TODO: rewrite hash for set, because for set it doesn't work. Instead eq function is used to compare sets\n",
    "        return hash((self.center_x, self.center_y, self.width, self.width, self.label))\n",
    "    \n",
    "    def __str__(self):\n",
    "        return f'BoundingBox({self.label}, [{self.center_x}, {self.center_y}], [{self.width}, {self.height}])'\n",
    "    def __repr__(self):\n",
    "        return f'BoundingBox({self.label}, [{self.center_x}, {self.center_y}], [{self.width}, {self.height}])'"
   ]
  },
  {
   "cell_type": "code",
   "execution_count": 180,
   "metadata": {},
   "outputs": [],
   "source": [
    "def eq(bbs1, bbs2):\n",
    "    '''\n",
    "    Compares two sets of BoundingBox objects (dumb method)\n",
    "    '''\n",
    "    result = 0\n",
    "    for bb1 in bbs1:\n",
    "        for bb2 in bbs2:\n",
    "            if bb1==bb2:\n",
    "                result+=1\n",
    "                break\n",
    "    print(result, len(bbs1))\n",
    "    return result == len(bbs1) and len(bbs1) == len(bbs2)"
   ]
  },
  {
   "cell_type": "code",
   "execution_count": 181,
   "metadata": {},
   "outputs": [],
   "source": [
    "# def class_colors(names):\n",
    "#     \"\"\"\n",
    "#     Create a dict with one random BGR color for each\n",
    "#     class name\n",
    "#     \"\"\"\n",
    "#     return {name: (\n",
    "#         np.random.randint(0, 255),\n",
    "#         np.random.randint(0, 255),\n",
    "#         np.random.randint(0, 255)) for name in names}\n",
    "\n",
    "# def compare_labels(json_path1, json_path2, colors = None, classes = None):\n",
    "#     '''\n",
    "#     Compare labels from json files\n",
    "#     Args:\n",
    "#         json_path1 (str): path to json file with labels\n",
    "#         json_path2 (str): path to json file with labels\n",
    "#         colors: list of RGB color for each bounding boxes class\n",
    "#     Returns:\n",
    "#         Comparison report\n",
    "#     '''\n",
    "\n",
    "#     # 1. Initialize variables with bounding boxes data\n",
    "#     with open(json_path1) as f:\n",
    "#         img_data1 = json.load(f)\n",
    "#     with open(json_path2) as f:\n",
    "#         img_data2 = json.load(f)\n",
    "        \n",
    "#     if colors is None:\n",
    "#         colors = class_colors(classes)\n",
    "    \n",
    "\n",
    "#     # 2. Create two black images with corresponding bounding boxes\n",
    "#     width, height = 2592, 1520 \n",
    "#     img1 = 255 * np.ones((width, height, 3), dtype = np.uint8)\n",
    "#     img2 = 255 * np.ones((width, height, 3), dtype = np.uint8)\n",
    "#     img_list = [(img1, img_data1), (img2, img_data2)]\n",
    "#     # loop in which  labels are added into corresponding image\n",
    "#     for img, img_data in img_list:\n",
    "#         shape_list = img_data['shapes']\n",
    "#         for rect in shape_list:\n",
    "#             label = rect['label']\n",
    "#             left, top = list(map(lambda x: int(round(x)), (rect['points'][0])))\n",
    "#             right, bottom = list(map(lambda x: int(round(x)), (rect['points'][1])))\n",
    "#             cv2.rectangle(img, (left, top), (right, bottom), colors[label])\n",
    "    \n",
    "#     mse = ((img1-img2)**2).mean()\n",
    "#     return mse\n",
    "\n",
    "\n",
    "def get_xywh(rect):\n",
    "    '''\n",
    "    Gets x, y, width and height from x1, y1, x2, y2 coordinates\n",
    "    '''\n",
    "    x_list=[rect['points'][0][0], rect['points'][1][0]]\n",
    "    y_list=[rect['points'][0][1], rect['points'][1][1]]\n",
    "    x_max = max(x_list)\n",
    "    x_min = min(x_list)\n",
    "    y_max = max(y_list)\n",
    "    y_min = min(y_list)\n",
    "\n",
    "    width = x_max-x_min\n",
    "    height = y_max-y_min\n",
    "    center_x,center_y = x_min+width/2.0 , y_min+height/2.0\n",
    "\n",
    "    return center_x, center_y, width, height\n",
    "\n",
    "def compare_labels(json_path1, json_path2):\n",
    "    '''\n",
    "    Compares labels of two labeled images\n",
    "    '''\n",
    "    # 1. initialize variables with bounding boxes data\n",
    "    with open(json_path1) as f:\n",
    "        img_data1 = json.load(f)\n",
    "    with open(json_path2) as f:\n",
    "        img_data2 = json.load(f)\n",
    "    \n",
    "    # 2. Build two sets of BoundingBox objects    \n",
    "    img_data_list = [img_data1, img_data2]\n",
    "    bbs_list = []\n",
    "    for img_data in img_data_list:\n",
    "        shape_list = img_data['shapes']\n",
    "#         bbs = {BoundingBox(*[coord for coords in rect['points'] for coord in coords], rect['label']) for rect in shape_list}\n",
    "        bbs = {BoundingBox(*get_xywh(rect), rect['label']) for rect in shape_list}\n",
    "        bbs_list.append(bbs)\n",
    "    \n",
    "    bbs1 = bbs_list[0]\n",
    "    bbs2 = bbs_list[1]\n",
    "    print(bbs1, len(bbs1))\n",
    "    print(bbs2, len(bbs2))\n",
    "    # 3. Compare two sets using eq function\n",
    "    return eq(bbs1, bbs2)"
   ]
  },
  {
   "cell_type": "code",
   "execution_count": 186,
   "metadata": {},
   "outputs": [
    {
     "name": "stdout",
     "output_type": "stream",
     "text": [
      "{BoundingBox(valid_metal, [2545.8333333333335, 916.6666666666667], [88.33333333333303, 63.333333333333485]), BoundingBox(grapple, [1693.3333333333335, 853.3333333333334], [346.66666666666674, 543.3333333333333]), BoundingBox(valid_metal, [575.0, 1090.8333333333335], [170.0, 95.0]), BoundingBox(valid_metal, [2336.666666666667, 1157.5], [93.33333333333348, 51.66666666666674]), BoundingBox(magnet, [1673.3333333333335, 1081.6666666666667], [273.33333333333326, 270.0]), BoundingBox(valid_metal, [335.83333333333337, 1197.5], [181.66666666666669, 115.0])} 6\n",
      "{BoundingBox(valid_metal, [2545.8333333333335, 916.6666666666667], [88.33333333333303, 63.333333333333485]), BoundingBox(grapple, [1693.3333333333335, 853.3333333333334], [346.66666666666674, 543.3333333333333]), BoundingBox(valid_metal, [575.0, 1090.8333333333335], [170.0, 95.0]), BoundingBox(valid_metal, [2336.666666666667, 1157.5], [93.33333333333348, 51.66666666666674]), BoundingBox(magnet, [1673.3333333333335, 1081.6666666666667], [273.33333333333326, 270.0]), BoundingBox(valid_metal, [335.83333333333337, 1197.5], [181.66666666666669, 115.0])} 6\n",
      "6 6\n"
     ]
    },
    {
     "data": {
      "text/plain": [
       "True"
      ]
     },
     "execution_count": 186,
     "metadata": {},
     "output_type": "execute_result"
    }
   ],
   "source": [
    "json_path1 = r'D:/Projects/metal_classification/data/examples/00000042(1).json'\n",
    "json_path2 = r'D:/Projects/metal_classification/data/examples/00000042(2).json'\n",
    "compare_labels(json_path1, json_path2)"
   ]
  },
  {
   "cell_type": "code",
   "execution_count": null,
   "metadata": {},
   "outputs": [],
   "source": []
  }
 ],
 "metadata": {
  "kernelspec": {
   "display_name": "Python 3",
   "language": "python",
   "name": "python3"
  },
  "language_info": {
   "codemirror_mode": {
    "name": "ipython",
    "version": 3
   },
   "file_extension": ".py",
   "mimetype": "text/x-python",
   "name": "python",
   "nbconvert_exporter": "python",
   "pygments_lexer": "ipython3",
   "version": "3.8.1"
  }
 },
 "nbformat": 4,
 "nbformat_minor": 4
}
