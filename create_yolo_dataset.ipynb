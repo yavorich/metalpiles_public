{
 "cells": [
  {
   "cell_type": "code",
   "execution_count": 1,
   "metadata": {},
   "outputs": [],
   "source": [
    "import os\n",
    "import glob\n",
    "import shutil\n",
    "import json\n",
    "import cv2"
   ]
  },
  {
   "cell_type": "code",
   "execution_count": 11,
   "metadata": {},
   "outputs": [],
   "source": [
    "FRAMES_PATH = r'D:\\Projects\\metal_classification\\data\\frames'\n",
    "YOLO_DATASET_PATH = r'D:\\Projects\\metal_classification\\data\\data_for_zip'"
   ]
  },
  {
   "cell_type": "code",
   "execution_count": 12,
   "metadata": {},
   "outputs": [],
   "source": [
    "id_list = ['valid_metal', 'no_metal', 'long_metal', 'thick_metal',\n",
    "           'grapple', 'truck', 'magnet']\n",
    "id_dict = {name: i for i, name in enumerate(id_list)}\n",
    "\n",
    "def save_yolo_file(labels, video_name, frame_name,  save_dir):\n",
    "    txt_path = os.path.join(frame_name + f'({video_name})' + '.txt')\n",
    "    txt_path = os.path.join(save_dir, txt_path)\n",
    "    with open(txt_path,'w') as f:\n",
    "        f.write('\\n'.join(labels))\n",
    "        \n",
    "def save_jpg_file(frame_path, video_name,  save_dir):\n",
    "    fn = os.path.basename(frame_path).split('.')[0] + f'({video_name})' + '.jpg' \n",
    "    new_path = os.path.join(save_dir, fn)\n",
    "    shutil.copy(frame_path,  new_path)\n",
    "\n",
    "\n",
    "def create_yolo_files(frames_path, video_name, save_dir = YOLO_DATASET_PATH):\n",
    "    for json_path in glob.glob(os.path.join(frames_path, '*.json')):\n",
    "        with open(json_path) as f:\n",
    "            data = json.load(f)\n",
    "        ports_list = []\n",
    "        for i in range(len(data['shapes'])):\n",
    "            ports_location = data['shapes'][i]['points']\n",
    "            ports_list.append(ports_location)\n",
    "        \n",
    "        frame_path = json_path.split('.')[0] + '.jpg'\n",
    "        frame_name = os.path.basename(json_path).split('.')[0]\n",
    "        save_jpg_file(frame_path, video_name, save_dir)\n",
    "        labels = []\n",
    "        for i in range(len(data['shapes'])):\n",
    "            x_lists=[]\n",
    "            y_lists=[]\n",
    "            obj_ports = ports_list[i]\n",
    "            for port in obj_ports:\n",
    "                x_lists.append(port[0])\n",
    "                y_lists.append(port[1])\n",
    "            x_max = sorted(x_lists)[-1]\n",
    "            x_min = sorted(x_lists)[0]\n",
    "            y_max = sorted(y_lists)[-1]\n",
    "            y_min = sorted(y_lists)[0]\n",
    "\n",
    "            width = x_max-x_min\n",
    "            height = y_max-y_min\n",
    "            \n",
    "            u,v,_ = cv2.imread(frame_path).shape\n",
    "                \n",
    "            center_x,center_y = round(float((x_min+width/2.0)/v),6),round(float((y_min+height/2.0)/u),6)\n",
    "            \n",
    "            f_width,f_height = round(float(width/v),6),round(float(height/u),6)\n",
    "            \n",
    "            label_id = str(id_dict[data['shapes'][i]['label']])\n",
    "            \n",
    "            labels.append(label_id+' '+str(center_x)+' '+str(center_y)+' '+str(f_width)+' '+str(f_height))\n",
    "            \n",
    "        save_yolo_file(labels,\n",
    "                           video_name, frame_name, save_dir)\n",
    "    print('Сonversion to yolo format completed')"
   ]
  },
  {
   "cell_type": "code",
   "execution_count": 13,
   "metadata": {},
   "outputs": [],
   "source": [
    "videos_list = glob.glob(os.path.join(FRAMES_PATH, '*'))"
   ]
  },
  {
   "cell_type": "code",
   "execution_count": 14,
   "metadata": {},
   "outputs": [
    {
     "data": {
      "text/plain": [
       "['D:\\\\Projects\\\\metal_classification\\\\data\\\\frames\\\\120210923000455_551',\n",
       " 'D:\\\\Projects\\\\metal_classification\\\\data\\\\frames\\\\120210923001407_550',\n",
       " 'D:\\\\Projects\\\\metal_classification\\\\data\\\\frames\\\\120210923083827_568']"
      ]
     },
     "execution_count": 14,
     "metadata": {},
     "output_type": "execute_result"
    }
   ],
   "source": [
    "videos_list"
   ]
  },
  {
   "cell_type": "code",
   "execution_count": 15,
   "metadata": {},
   "outputs": [
    {
     "name": "stdout",
     "output_type": "stream",
     "text": [
      "Сonversion to yolo format completed\n",
      "Сonversion to yolo format completed\n",
      "Сonversion to yolo format completed\n"
     ]
    }
   ],
   "source": [
    "for frames_path in videos_list:\n",
    "    create_yolo_files(frames_path, os.path.basename(frames_path))    "
   ]
  },
  {
   "cell_type": "code",
   "execution_count": 17,
   "metadata": {},
   "outputs": [],
   "source": [
    "def create_train_file(data_dir, save_dir):\n",
    "    train_fn = 'train.txt'\n",
    "    \n",
    "    labels_list = glob.glob(os.path.join(YOLO_DATASET_PATH, '*.jpg'))\n",
    "    train_paths_list = []\n",
    "    \n",
    "#     if data_dir.split(os.path.sep)[-1]!='data':\n",
    "#         raise ValueError('root directory should be \\'data\\'')\n",
    "    \n",
    "    for labels_path in labels_list:\n",
    "        fn = os.path.basename(labels_path)\n",
    "        jpg_fn = fn.split('.')[0] + '.jpg'\n",
    "        data_path = os.path.join('data', jpg_fn)\n",
    "        \n",
    "        train_paths_list.append(data_path)\n",
    "    \n",
    "    with open(os.path.join(save_dir, train_fn), 'w') as f:\n",
    "        f.write('\\n'.join(train_paths_list))"
   ]
  },
  {
   "cell_type": "code",
   "execution_count": 18,
   "metadata": {},
   "outputs": [],
   "source": [
    "create_train_file(data_dir = YOLO_DATASET_PATH, save_dir = YOLO_DATASET_PATH)"
   ]
  },
  {
   "cell_type": "code",
   "execution_count": null,
   "metadata": {},
   "outputs": [],
   "source": []
  }
 ],
 "metadata": {
  "kernelspec": {
   "display_name": "Python 3",
   "language": "python",
   "name": "python3"
  },
  "language_info": {
   "codemirror_mode": {
    "name": "ipython",
    "version": 3
   },
   "file_extension": ".py",
   "mimetype": "text/x-python",
   "name": "python",
   "nbconvert_exporter": "python",
   "pygments_lexer": "ipython3",
   "version": "3.8.1"
  }
 },
 "nbformat": 4,
 "nbformat_minor": 4
}
