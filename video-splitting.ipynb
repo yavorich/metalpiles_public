{
 "cells": [
  {
   "cell_type": "code",
   "execution_count": 1,
   "metadata": {},
   "outputs": [],
   "source": [
    "import os\n",
    "import cv2\n",
    "import numpy as np\n",
    "import glob\n",
    "import json\n",
    "import pandas as pd\n",
    "import zipfile"
   ]
  },
  {
   "cell_type": "code",
   "execution_count": 2,
   "metadata": {},
   "outputs": [],
   "source": [
    "DATA_PATH = os.path.join('..','data')\n",
    "LABEL_PATH = os.path.join(DATA_PATH, 'label_data')\n",
    "FRAMES_PATH = os.path.join(DATA_PATH, 'frames')\n",
    "VIDEOS_PATH = os.path.join(DATA_PATH, 'videos')"
   ]
  },
  {
   "cell_type": "code",
   "execution_count": 12,
   "metadata": {},
   "outputs": [
    {
     "data": {
      "text/plain": [
       "['120210923000455_551.avi',\n",
       " '120210923001407_550.avi',\n",
       " '120210923002318_550.avi',\n",
       " '120210923003229_552.avi',\n",
       " '120210923083827_568.avi',\n",
       " '120210923084756_567.avi',\n",
       " '120210923085724_564.avi',\n",
       " '120210923090649_565.avi',\n",
       " '120210923091615_562.avi',\n",
       " '120210923102215_567.avi',\n",
       " '120210923103143_564.avi',\n",
       " '120210923104108_565.avi',\n",
       " '120210923105034_563.avi',\n",
       " '120210923111858_569.avi',\n",
       " '120210923112828_567.avi',\n",
       " '120210923113755_567.avi',\n",
       " '120210923114723_570.avi',\n",
       " '120210923115654_575.avi',\n",
       " '120210923120630_567.avi',\n",
       " '120210923121558_575.avi',\n",
       " '120210923122534_578.avi',\n",
       " '120210923123513_571.avi',\n",
       " 'frames']"
      ]
     },
     "execution_count": 12,
     "metadata": {},
     "output_type": "execute_result"
    }
   ],
   "source": [
    "videos_list = os.listdir(VIDEOS_PATH)\n",
    "videos_list"
   ]
  },
  {
   "cell_type": "code",
   "execution_count": 60,
   "metadata": {},
   "outputs": [],
   "source": [
    "# path = path = os.path.join(DATA_PATH, videos_list[0])\n",
    "# frames_path = os.path.join(DATA_PATH, 'frames', videos_list[0])"
   ]
  },
  {
   "cell_type": "markdown",
   "metadata": {},
   "source": [
    "Разбивка видео на кадры"
   ]
  },
  {
   "cell_type": "code",
   "execution_count": 8,
   "metadata": {},
   "outputs": [
    {
     "data": {
      "text/plain": [
       "'..\\\\data\\\\ПРОЕКТ Х\\\\120210923123513_571.avi'"
      ]
     },
     "execution_count": 8,
     "metadata": {},
     "output_type": "execute_result"
    }
   ],
   "source": []
  },
  {
   "cell_type": "code",
   "execution_count": 31,
   "metadata": {},
   "outputs": [],
   "source": [
    "frames_type = '.jpg'\n",
    "\n",
    "frames_dir = os.path.join(VIDEOS_PATH, 'frames')\n",
    "videos_dir = VIDEOS_PATH\n",
    "\n",
    "for video_name in videos_list:\n",
    "    path = os.path.join(videos_dir, video_name)\n",
    "#     Путь без типа видео\n",
    "    frames_path = os.path.join(frames_dir, video_name)[:-4]\n",
    "#     Поворот\n",
    "#     os.system(f'ffmpeg -i {path} -vf \"transpose=2,transpose=2\" {path[:-4]}_rotated{path[-4:]}')\n",
    "    # Special command\n",
    "    # See: https://stackoverflow.com/questions/10225403/how-can-i-extract-a-good-quality-jpeg-image-from-a-video-file-with-ffmpeg\n",
    "#     os.system(f'ffmpeg -i {path[:-4]}_rotated{path[-4:]} -qscale:v 2 {frames_path[:-4]}_%d.jpg')\n",
    "    os.system(f'ffmpeg -i {path} -qscale:v 2 {frames_path}_%d{frames_type}')"
   ]
  },
  {
   "cell_type": "code",
   "execution_count": 28,
   "metadata": {},
   "outputs": [
    {
     "data": {
      "text/plain": [
       "True"
      ]
     },
     "execution_count": 28,
     "metadata": {},
     "output_type": "execute_result"
    }
   ],
   "source": [
    "# src = glob.glob(os.path.join(frames_dir, '*.jpg'))[1_000]\n",
    "# img = cv2.imread(src)\n",
    "# img = cv2.rotate(img, cv2.ROTATE_180)\n",
    "# cv2.imwrite('D:\\example.jpg', img)"
   ]
  },
  {
   "cell_type": "code",
   "execution_count": null,
   "metadata": {},
   "outputs": [],
   "source": [
    "Поворот картинок на 180 градусов"
   ]
  },
  {
   "cell_type": "code",
   "execution_count": 30,
   "metadata": {},
   "outputs": [
    {
     "ename": "KeyboardInterrupt",
     "evalue": "",
     "output_type": "error",
     "traceback": [
      "\u001b[1;31m---------------------------------------------------------------------------\u001b[0m",
      "\u001b[1;31mKeyboardInterrupt\u001b[0m                         Traceback (most recent call last)",
      "\u001b[1;32m<ipython-input-30-edab83549f20>\u001b[0m in \u001b[0;36m<module>\u001b[1;34m\u001b[0m\n\u001b[0;32m      4\u001b[0m     \u001b[0msrc\u001b[0m \u001b[1;33m=\u001b[0m \u001b[0mcv2\u001b[0m\u001b[1;33m.\u001b[0m\u001b[0mimread\u001b[0m\u001b[1;33m(\u001b[0m\u001b[0mframe_path\u001b[0m\u001b[1;33m)\u001b[0m\u001b[1;33m\u001b[0m\u001b[1;33m\u001b[0m\u001b[0m\n\u001b[0;32m      5\u001b[0m     \u001b[0mframe\u001b[0m \u001b[1;33m=\u001b[0m \u001b[0mcv2\u001b[0m\u001b[1;33m.\u001b[0m\u001b[0mrotate\u001b[0m\u001b[1;33m(\u001b[0m\u001b[0msrc\u001b[0m\u001b[1;33m,\u001b[0m \u001b[0mcv2\u001b[0m\u001b[1;33m.\u001b[0m\u001b[0mROTATE_180\u001b[0m\u001b[1;33m)\u001b[0m\u001b[1;33m\u001b[0m\u001b[1;33m\u001b[0m\u001b[0m\n\u001b[1;32m----> 6\u001b[1;33m     \u001b[0mcv2\u001b[0m\u001b[1;33m.\u001b[0m\u001b[0mimwrite\u001b[0m\u001b[1;33m(\u001b[0m\u001b[0mframe_path\u001b[0m\u001b[1;33m,\u001b[0m \u001b[0mframe\u001b[0m\u001b[1;33m)\u001b[0m\u001b[1;33m\u001b[0m\u001b[1;33m\u001b[0m\u001b[0m\n\u001b[0m",
      "\u001b[1;31mKeyboardInterrupt\u001b[0m: "
     ]
    }
   ],
   "source": [
    "# import cv2\n",
    "\n",
    "# for frame_path in glob.glob(os.path.join(frames_dir, '*.jpg')):\n",
    "#     src = cv2.imread(frame_path)\n",
    "#     frame = cv2.rotate(src, cv2.ROTATE_180)\n",
    "#     cv2.imwrite(frame_path, frame)"
   ]
  },
  {
   "cell_type": "markdown",
   "metadata": {},
   "source": [
    "Создание csv файла меток"
   ]
  },
  {
   "cell_type": "code",
   "execution_count": 3,
   "metadata": {},
   "outputs": [],
   "source": [
    "json_list = glob.glob(os.path.join(FRAMES_PATH, '*.json'))"
   ]
  },
  {
   "cell_type": "code",
   "execution_count": 4,
   "metadata": {},
   "outputs": [],
   "source": [
    "path, ladle_label = [], []\n",
    "for fn in json_list:\n",
    "    with open(fn, 'r') as f:\n",
    "        data = json.load(f)\n",
    "        if data['flags']['ladle']==True or data['flags']['no_ladle']==True:\n",
    "            path.append(data['imagePath'])\n",
    "            ladle_label.append(1 if data['flags']['ladle']==True else 0)"
   ]
  },
  {
   "cell_type": "code",
   "execution_count": 5,
   "metadata": {},
   "outputs": [
    {
     "data": {
      "text/html": [
       "<div>\n",
       "<style scoped>\n",
       "    .dataframe tbody tr th:only-of-type {\n",
       "        vertical-align: middle;\n",
       "    }\n",
       "\n",
       "    .dataframe tbody tr th {\n",
       "        vertical-align: top;\n",
       "    }\n",
       "\n",
       "    .dataframe thead th {\n",
       "        text-align: right;\n",
       "    }\n",
       "</style>\n",
       "<table border=\"1\" class=\"dataframe\">\n",
       "  <thead>\n",
       "    <tr style=\"text-align: right;\">\n",
       "      <th></th>\n",
       "      <th>path</th>\n",
       "      <th>ladle_label</th>\n",
       "    </tr>\n",
       "  </thead>\n",
       "  <tbody>\n",
       "    <tr>\n",
       "      <th>0</th>\n",
       "      <td>120210923001407_550_1.jpg</td>\n",
       "      <td>0</td>\n",
       "    </tr>\n",
       "    <tr>\n",
       "      <th>1</th>\n",
       "      <td>120210923001407_550_10.jpg</td>\n",
       "      <td>0</td>\n",
       "    </tr>\n",
       "    <tr>\n",
       "      <th>2</th>\n",
       "      <td>120210923001407_550_100.jpg</td>\n",
       "      <td>1</td>\n",
       "    </tr>\n",
       "    <tr>\n",
       "      <th>3</th>\n",
       "      <td>120210923001407_550_1000.jpg</td>\n",
       "      <td>1</td>\n",
       "    </tr>\n",
       "    <tr>\n",
       "      <th>4</th>\n",
       "      <td>120210923001407_550_1001.jpg</td>\n",
       "      <td>1</td>\n",
       "    </tr>\n",
       "  </tbody>\n",
       "</table>\n",
       "</div>"
      ],
      "text/plain": [
       "                           path  ladle_label\n",
       "0     120210923001407_550_1.jpg            0\n",
       "1    120210923001407_550_10.jpg            0\n",
       "2   120210923001407_550_100.jpg            1\n",
       "3  120210923001407_550_1000.jpg            1\n",
       "4  120210923001407_550_1001.jpg            1"
      ]
     },
     "execution_count": 5,
     "metadata": {},
     "output_type": "execute_result"
    }
   ],
   "source": [
    "data_df = pd.DataFrame(data = {'path': path, 'ladle_label': ladle_label})\n",
    "data_df.head(5)"
   ]
  },
  {
   "cell_type": "code",
   "execution_count": 6,
   "metadata": {},
   "outputs": [],
   "source": [
    "data_df.to_csv(os.path.join(DATA_PATH,'label_data', 'data_df.csv'))"
   ]
  },
  {
   "cell_type": "code",
   "execution_count": 7,
   "metadata": {},
   "outputs": [
    {
     "data": {
      "text/html": [
       "<div>\n",
       "<style scoped>\n",
       "    .dataframe tbody tr th:only-of-type {\n",
       "        vertical-align: middle;\n",
       "    }\n",
       "\n",
       "    .dataframe tbody tr th {\n",
       "        vertical-align: top;\n",
       "    }\n",
       "\n",
       "    .dataframe thead th {\n",
       "        text-align: right;\n",
       "    }\n",
       "</style>\n",
       "<table border=\"1\" class=\"dataframe\">\n",
       "  <thead>\n",
       "    <tr style=\"text-align: right;\">\n",
       "      <th></th>\n",
       "      <th>path</th>\n",
       "      <th>ladle_label</th>\n",
       "    </tr>\n",
       "  </thead>\n",
       "  <tbody>\n",
       "    <tr>\n",
       "      <th>0</th>\n",
       "      <td>120210923001407_550_1.jpg</td>\n",
       "      <td>0</td>\n",
       "    </tr>\n",
       "    <tr>\n",
       "      <th>1</th>\n",
       "      <td>120210923001407_550_10.jpg</td>\n",
       "      <td>0</td>\n",
       "    </tr>\n",
       "    <tr>\n",
       "      <th>2</th>\n",
       "      <td>120210923001407_550_100.jpg</td>\n",
       "      <td>1</td>\n",
       "    </tr>\n",
       "    <tr>\n",
       "      <th>3</th>\n",
       "      <td>120210923001407_550_1000.jpg</td>\n",
       "      <td>1</td>\n",
       "    </tr>\n",
       "    <tr>\n",
       "      <th>4</th>\n",
       "      <td>120210923001407_550_1001.jpg</td>\n",
       "      <td>1</td>\n",
       "    </tr>\n",
       "    <tr>\n",
       "      <th>...</th>\n",
       "      <td>...</td>\n",
       "      <td>...</td>\n",
       "    </tr>\n",
       "    <tr>\n",
       "      <th>4526</th>\n",
       "      <td>120210923002318_550_710.jpg</td>\n",
       "      <td>1</td>\n",
       "    </tr>\n",
       "    <tr>\n",
       "      <th>4527</th>\n",
       "      <td>120210923002318_550_711.jpg</td>\n",
       "      <td>1</td>\n",
       "    </tr>\n",
       "    <tr>\n",
       "      <th>4528</th>\n",
       "      <td>120210923002318_550_712.jpg</td>\n",
       "      <td>1</td>\n",
       "    </tr>\n",
       "    <tr>\n",
       "      <th>4529</th>\n",
       "      <td>120210923002318_550_713.jpg</td>\n",
       "      <td>1</td>\n",
       "    </tr>\n",
       "    <tr>\n",
       "      <th>4530</th>\n",
       "      <td>120210923002318_550_714.jpg</td>\n",
       "      <td>1</td>\n",
       "    </tr>\n",
       "  </tbody>\n",
       "</table>\n",
       "<p>4531 rows × 2 columns</p>\n",
       "</div>"
      ],
      "text/plain": [
       "                              path  ladle_label\n",
       "0        120210923001407_550_1.jpg            0\n",
       "1       120210923001407_550_10.jpg            0\n",
       "2      120210923001407_550_100.jpg            1\n",
       "3     120210923001407_550_1000.jpg            1\n",
       "4     120210923001407_550_1001.jpg            1\n",
       "...                            ...          ...\n",
       "4526   120210923002318_550_710.jpg            1\n",
       "4527   120210923002318_550_711.jpg            1\n",
       "4528   120210923002318_550_712.jpg            1\n",
       "4529   120210923002318_550_713.jpg            1\n",
       "4530   120210923002318_550_714.jpg            1\n",
       "\n",
       "[4531 rows x 2 columns]"
      ]
     },
     "execution_count": 7,
     "metadata": {},
     "output_type": "execute_result"
    }
   ],
   "source": [
    "data_df"
   ]
  },
  {
   "cell_type": "markdown",
   "metadata": {},
   "source": [
    "Архивация"
   ]
  },
  {
   "cell_type": "code",
   "execution_count": 16,
   "metadata": {},
   "outputs": [],
   "source": [
    "with zipfile.ZipFile(os.path.join(LABEL_PATH, 'data.zip'), 'w') as zip_ref:\n",
    "    for index, row in data_df.iterrows():\n",
    "        zip_ref.write(os.path.join(FRAMES_PATH, row['path']), arcname = os.path.join('data', 'frames', row['path']))\n",
    "    \n",
    "    zip_ref.write(os.path.join(LABEL_PATH, 'data_df.csv'), arcname = os.path.join('data', 'labels', 'data_df.csv'))"
   ]
  }
 ],
 "metadata": {
  "kernelspec": {
   "display_name": "Python 3",
   "language": "python",
   "name": "python3"
  },
  "language_info": {
   "codemirror_mode": {
    "name": "ipython",
    "version": 3
   },
   "file_extension": ".py",
   "mimetype": "text/x-python",
   "name": "python",
   "nbconvert_exporter": "python",
   "pygments_lexer": "ipython3",
   "version": "3.8.1"
  }
 },
 "nbformat": 4,
 "nbformat_minor": 4
}
